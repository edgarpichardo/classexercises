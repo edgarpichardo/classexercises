{
 "cells": [
  {
   "cell_type": "code",
   "execution_count": 2,
   "id": "d4a2c019-a6aa-4009-ba02-85f7ce624731",
   "metadata": {},
   "outputs": [
    {
     "name": "stdout",
     "output_type": "stream",
     "text": [
      "1\n",
      "2\n",
      "3\n",
      "4\n",
      "5\n"
     ]
    }
   ],
   "source": [
    "#Exercises: for loops\n",
    "\n",
    "#1a)\n",
    "\n",
    "for i in range(1,6):\n",
    "    print(i)"
   ]
  },
  {
   "cell_type": "code",
   "execution_count": 22,
   "id": "1c5a467e-143a-4ce4-81e7-b8aedb9ba9f9",
   "metadata": {},
   "outputs": [
    {
     "name": "stdout",
     "output_type": "stream",
     "text": [
      "[1.0, 1.7099759466766968, 1.2599210498948732, 2.154434690031884, 1.5874010519681994, 1.912931182772389]\n"
     ]
    }
   ],
   "source": [
    "#1b)\n",
    "\n",
    "a = [1,5,2,10,4,7]\n",
    "\n",
    "c_root = []\n",
    "\n",
    "for i in a:\n",
    "    c_root.append(pow(i,1/3))\n",
    "print(c_root)\n"
   ]
  },
  {
   "cell_type": "code",
   "execution_count": 3,
   "id": "0ed68359-3de4-468c-b8d3-7c5b4921c4a8",
   "metadata": {},
   "outputs": [
    {
     "name": "stdout",
     "output_type": "stream",
     "text": [
      "P\n",
      "N\n",
      "E\n",
      "U\n",
      "M\n",
      "O\n",
      "N\n",
      "O\n",
      "U\n",
      "L\n",
      "T\n",
      "R\n",
      "A\n",
      "M\n",
      "I\n",
      "C\n",
      "R\n",
      "O\n",
      "S\n",
      "C\n",
      "O\n",
      "P\n",
      "I\n",
      "C\n",
      "S\n",
      "I\n",
      "L\n",
      "I\n",
      "C\n",
      "O\n",
      "V\n",
      "O\n",
      "L\n",
      "C\n",
      "A\n",
      "N\n",
      "O\n",
      "C\n",
      "O\n",
      "N\n",
      "I\n",
      "O\n",
      "S\n",
      "I\n",
      "S\n"
     ]
    }
   ],
   "source": [
    "#1c)\n",
    "\n",
    "s = \"Pneumonoultramicroscopicsilicovolcanoconiosis\"    \n",
    "for i in s:  \n",
    "    if i.isupper():\n",
    "        print(i)\n",
    "    else:\n",
    "        print(i.upper()) \n",
    "\n",
    "\n"
   ]
  },
  {
   "cell_type": "code",
   "execution_count": 11,
   "id": "bd180d7e-8d5f-4477-bd93-b0da0b6ed8dc",
   "metadata": {},
   "outputs": [
    {
     "name": "stdout",
     "output_type": "stream",
     "text": [
      "Dr.Phil\n",
      "Dr.Oz\n",
      "Dr.Seuss\n",
      "Dr.Dre\n"
     ]
    }
   ],
   "source": [
    "#1d)\n",
    "\n",
    "l = [\"Phil\",\"Oz\",\"Seuss\",\"Dre\"] # List initialization\n",
    "for i in range(len(l)):\n",
    "    l[i] = \"Dr.\"+l[i]  # Adding Dr. before\n",
    "for i in l:\n",
    "    print(i)"
   ]
  },
  {
   "cell_type": "code",
   "execution_count": 12,
   "id": "b3694e6e-a8db-46bc-b55c-017fb8bd7fe8",
   "metadata": {},
   "outputs": [
    {
     "name": "stdout",
     "output_type": "stream",
     "text": [
      "<class 'float'>\n",
      "<class 'int'>\n",
      "<class 'str'>\n",
      "<class 'dict'>\n",
      "<class 'bool'>\n",
      "<class 'list'>\n",
      "<class 'str'>\n"
     ]
    }
   ],
   "source": [
    "#1e)\n",
    "\n",
    "First_list = [3.14,66,\"Bear\",{},True,[],'51']  \n",
    "Second_list = []     # Second list\n",
    "for i in First_list:\n",
    "    Second_list.append(type(i))\n",
    "for i in Second_list:\n",
    "    print(i)"
   ]
  },
  {
   "cell_type": "code",
   "execution_count": 13,
   "id": "685a774b-b54d-4568-b636-9b7f6c979984",
   "metadata": {},
   "outputs": [
    {
     "name": "stdout",
     "output_type": "stream",
     "text": [
      "33.5\n"
     ]
    }
   ],
   "source": [
    "#2a)\n",
    "\n",
    "l = [[1,4,2],[10,20,30]]\n",
    "Sum = 0\n",
    "\n",
    "for inner_list in l:\n",
    "    \n",
    "    if type(inner_list)==list:\n",
    "        \n",
    "        for i in range(len(inner_list)):\n",
    "            inner_list[i]/=2\n",
    "            Sum +=inner_list[i]\n",
    "    else:\n",
    "        Sum+=inner_list\n",
    "print(Sum)"
   ]
  },
  {
   "cell_type": "code",
   "execution_count": 14,
   "id": "eca4afa2-318a-4995-a59d-d5598e637e65",
   "metadata": {},
   "outputs": [
    {
     "name": "stdout",
     "output_type": "stream",
     "text": [
      "P -at index 0\n",
      "y -at index 1\n",
      "t -at index 2\n",
      "h -at index 3\n",
      "o -at index 4\n",
      "n -at index 5\n"
     ]
    }
   ],
   "source": [
    "#2b)\n",
    "\n",
    "s= 'Python'\n",
    "\n",
    "for i in range(len(s)):\n",
    "    print(f\"{s[i]} -at index {i}\")\n",
    "\n"
   ]
  },
  {
   "cell_type": "code",
   "execution_count": 17,
   "id": "a6d0edbc-8b02-4a3e-939b-54c815b9b257",
   "metadata": {},
   "outputs": [
    {
     "name": "stdout",
     "output_type": "stream",
     "text": [
      "[0, 4, 12, 24]\n"
     ]
    }
   ],
   "source": [
    "#2c)\n",
    "\n",
    "List_1 = [10,4,6,8]\n",
    "product = []\n",
    "\n",
    "for i in range(len(List_1)):\n",
    "    product.append(List_1[i]*i)\n",
    "print(product)"
   ]
  },
  {
   "cell_type": "code",
   "execution_count": 16,
   "id": "c5093485-7dca-479a-b591-293580e13a13",
   "metadata": {},
   "outputs": [
    {
     "name": "stdout",
     "output_type": "stream",
     "text": [
      "(0, 'A')\n",
      "(1, 'B')\n",
      "(2, 'C')\n",
      "(3, 'D')\n",
      "(4, 'E')\n"
     ]
    }
   ],
   "source": [
    "#2d)\n",
    "\n",
    "my_tuple = (\"A\",\"B\",\"C\",\"D\",\"E\")\n",
    "#iterating through the enumerate function using for loop\n",
    "for i in enumerate(my_tuple):\n",
    "    print(i)"
   ]
  },
  {
   "cell_type": "code",
   "execution_count": 18,
   "id": "8c4f2064-69c2-42f8-85bd-bce6d96ee35f",
   "metadata": {},
   "outputs": [
    {
     "name": "stdout",
     "output_type": "stream",
     "text": [
      "[4.5, 1.5, 5.5, 2.5, 4.0, 1.0, 5.0, 2.0, 3.5, 0.5, 4.5, 1.5, 3.0, 0.0, 4.0, 1.0, 2.5, -0.5, 3.5, 0.5, 2.0, -1.0, 3.0, 0.0, 1.5, -1.5, 2.5, -0.5, 1.0, -2.0, 2.0, -1.0, 0.5, -2.5, 1.5, -1.5, 0.0, -3.0, 1.0, -2.0]\n"
     ]
    }
   ],
   "source": [
    "#2e)\n",
    "\n",
    "items_list = [5,2,6,3]\n",
    "collections = []\n",
    "\n",
    "for i in range(10):\n",
    "    \n",
    "    for i in range(len(items_list)):\n",
    "        items_list[i]-=0.5\n",
    "        collections.append(items_list[i])\n",
    "print(collections)"
   ]
  },
  {
   "cell_type": "code",
   "execution_count": null,
   "id": "c4d5172d-bdcc-4c00-ab99-80e427988482",
   "metadata": {},
   "outputs": [],
   "source": []
  }
 ],
 "metadata": {
  "kernelspec": {
   "display_name": "exercise_conda_a",
   "language": "python",
   "name": "exercise_conda_a"
  },
  "language_info": {
   "codemirror_mode": {
    "name": "ipython",
    "version": 3
   },
   "file_extension": ".py",
   "mimetype": "text/x-python",
   "name": "python",
   "nbconvert_exporter": "python",
   "pygments_lexer": "ipython3",
   "version": "3.9.12"
  }
 },
 "nbformat": 4,
 "nbformat_minor": 5
}
