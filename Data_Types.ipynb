{
 "cells": [
  {
   "cell_type": "code",
   "execution_count": 9,
   "id": "c5f88492-cdfa-4882-ba53-f0abbb7a8eeb",
   "metadata": {},
   "outputs": [],
   "source": [
    "#Exercise: Data Types \n",
    "\n",
    "#1)\n",
    "\n",
    "a=3\n",
    "b=15.8\n",
    "c=\"numbers\""
   ]
  },
  {
   "cell_type": "code",
   "execution_count": 5,
   "id": "c9819d4d-c3a2-4229-b955-b70179c15da9",
   "metadata": {},
   "outputs": [
    {
     "name": "stdout",
     "output_type": "stream",
     "text": [
      "3\n"
     ]
    }
   ],
   "source": [
    "print (a)"
   ]
  },
  {
   "cell_type": "code",
   "execution_count": 6,
   "id": "3547f134-7c3e-4979-8904-5d8cbf16e771",
   "metadata": {},
   "outputs": [
    {
     "name": "stdout",
     "output_type": "stream",
     "text": [
      "15.8\n"
     ]
    }
   ],
   "source": [
    "print(b)"
   ]
  },
  {
   "cell_type": "code",
   "execution_count": 7,
   "id": "bb1381c5-e9ae-476a-a1ba-ef2fd12c7f85",
   "metadata": {},
   "outputs": [
    {
     "name": "stdout",
     "output_type": "stream",
     "text": [
      "numbers\n"
     ]
    }
   ],
   "source": [
    "print(c)"
   ]
  },
  {
   "cell_type": "code",
   "execution_count": 8,
   "id": "75d9cf3f-584a-456a-b951-e3c96ab9b3c7",
   "metadata": {},
   "outputs": [
    {
     "name": "stdout",
     "output_type": "stream",
     "text": [
      "3.0\n"
     ]
    }
   ],
   "source": [
    "#2)\n",
    "\n",
    "print(float(a))"
   ]
  },
  {
   "cell_type": "code",
   "execution_count": 9,
   "id": "42a3de2c-70ac-4404-914a-518f0025ba80",
   "metadata": {},
   "outputs": [
    {
     "name": "stdout",
     "output_type": "stream",
     "text": [
      "15\n"
     ]
    }
   ],
   "source": [
    "print(int(b))"
   ]
  },
  {
   "cell_type": "code",
   "execution_count": 10,
   "id": "6cd40dd1-ebbd-4735-b797-aa4a93b3c543",
   "metadata": {},
   "outputs": [
    {
     "name": "stdout",
     "output_type": "stream",
     "text": [
      "True\n"
     ]
    }
   ],
   "source": [
    "print(bool(c))"
   ]
  },
  {
   "cell_type": "code",
   "execution_count": 16,
   "id": "c0c65e2f-57f8-4ca3-8b4a-27c02b9ed327",
   "metadata": {},
   "outputs": [
    {
     "name": "stdout",
     "output_type": "stream",
     "text": [
      "3 and 15.8 are numbers\n"
     ]
    }
   ],
   "source": [
    "#3)\n",
    "\n",
    "print(a,'and',b,'are',c)"
   ]
  },
  {
   "cell_type": "code",
   "execution_count": 18,
   "id": "5da7d95a-17a0-426b-b9a5-29265a9f7026",
   "metadata": {},
   "outputs": [
    {
     "name": "stdout",
     "output_type": "stream",
     "text": [
      "True\n",
      "True\n"
     ]
    }
   ],
   "source": [
    "#4)\n",
    "\n",
    "d = 'games'\n",
    "e = 'Games'\n",
    "\n",
    "print(bool(d))\n",
    "print(bool(e))"
   ]
  },
  {
   "cell_type": "code",
   "execution_count": 19,
   "id": "40e350f9-3277-446a-bfbc-92122492a7b2",
   "metadata": {},
   "outputs": [
    {
     "ename": "NameError",
     "evalue": "name 'Deer' is not defined",
     "output_type": "error",
     "traceback": [
      "\u001b[0;31m---------------------------------------------------------------------------\u001b[0m",
      "\u001b[0;31mNameError\u001b[0m                                 Traceback (most recent call last)",
      "Input \u001b[0;32mIn [19]\u001b[0m, in \u001b[0;36m<cell line: 1>\u001b[0;34m()\u001b[0m\n\u001b[0;32m----> 1\u001b[0m First_Name \u001b[38;5;241m=\u001b[39m \u001b[43mDeer\u001b[49m\n",
      "\u001b[0;31mNameError\u001b[0m: name 'Deer' is not defined"
     ]
    }
   ],
   "source": [
    "#5)\n",
    "\n",
    "First_Name = Deer"
   ]
  },
  {
   "cell_type": "code",
   "execution_count": 22,
   "id": "6fe52bb1-f04a-4657-b307-18417fe71994",
   "metadata": {},
   "outputs": [
    {
     "name": "stdout",
     "output_type": "stream",
     "text": [
      "The value Deer is not defined, parenthesis must be added.\n"
     ]
    }
   ],
   "source": [
    "print ('The value Deer is not defined, parenthesis must be added.')"
   ]
  },
  {
   "cell_type": "code",
   "execution_count": 47,
   "id": "17ad7be5-09fa-4e63-8c14-59a3e429e670",
   "metadata": {},
   "outputs": [],
   "source": [
    "#Exercises: Math Operators\n",
    "\n",
    "#1)\n",
    "\n",
    "import math \n",
    "\n",
    "x=10\n",
    "y=3.5\n",
    "z=13"
   ]
  },
  {
   "cell_type": "code",
   "execution_count": 48,
   "id": "17b11e3c-6ded-474e-a369-fbdfe2a215f8",
   "metadata": {},
   "outputs": [
    {
     "data": {
      "text/plain": [
       "13.90350790290525"
      ]
     },
     "execution_count": 48,
     "metadata": {},
     "output_type": "execute_result"
    }
   ],
   "source": [
    "#1a)\n",
    "\n",
    "(((x**.5))/(y))+(z)"
   ]
  },
  {
   "cell_type": "code",
   "execution_count": 40,
   "id": "a5798565-2197-47b6-b135-ae026ae8e3b3",
   "metadata": {},
   "outputs": [
    {
     "data": {
      "text/plain": [
       "182.25"
      ]
     },
     "execution_count": 40,
     "metadata": {},
     "output_type": "execute_result"
    }
   ],
   "source": [
    "#1b)\n",
    "\n",
    "(x+y)**2"
   ]
  },
  {
   "cell_type": "code",
   "execution_count": 50,
   "id": "397409a2-284c-4798-963e-d56416f33cb5",
   "metadata": {},
   "outputs": [
    {
     "data": {
      "text/plain": [
       "0.03348397847833331"
      ]
     },
     "execution_count": 50,
     "metadata": {},
     "output_type": "execute_result"
    }
   ],
   "source": [
    "#1c)\n",
    "\n",
    "(2.718)**(-2*a)*(y+x)"
   ]
  },
  {
   "cell_type": "code",
   "execution_count": 1,
   "id": "1b904f01-c42f-4975-b02c-c10d08545eb2",
   "metadata": {},
   "outputs": [
    {
     "data": {
      "text/plain": [
       "24.17014546669637"
      ]
     },
     "execution_count": 1,
     "metadata": {},
     "output_type": "execute_result"
    }
   ],
   "source": [
    "#2\n",
    "\n",
    "67/39.37\n",
    "\n",
    "70/((67/39.37)**2)"
   ]
  },
  {
   "cell_type": "code",
   "execution_count": 2,
   "id": "7ea10c21-fee2-46fc-8db5-fca285d4d01b",
   "metadata": {},
   "outputs": [
    {
     "data": {
      "text/plain": [
       "9.539392014169456"
      ]
     },
     "execution_count": 2,
     "metadata": {},
     "output_type": "execute_result"
    }
   ],
   "source": [
    "#3)\n",
    "\n",
    "'100 = 9 + ?'\n",
    "\n",
    "91**.5"
   ]
  },
  {
   "cell_type": "code",
   "execution_count": 3,
   "id": "5b1fb53e-aaae-4779-9fb9-1ff480a99c0b",
   "metadata": {},
   "outputs": [
    {
     "data": {
      "text/plain": [
       "-7.833333333333333"
      ]
     },
     "execution_count": 3,
     "metadata": {},
     "output_type": "execute_result"
    }
   ],
   "source": [
    "#4)\n",
    "\n",
    "(-2+(2**2)-(4*6*4))/(2*6)"
   ]
  },
  {
   "cell_type": "code",
   "execution_count": 4,
   "id": "9a7cc001-b4f6-407a-900f-a545c30cc9fb",
   "metadata": {},
   "outputs": [
    {
     "data": {
      "text/plain": [
       "104.0"
      ]
     },
     "execution_count": 4,
     "metadata": {},
     "output_type": "execute_result"
    }
   ],
   "source": [
    "#5a)\n",
    "\n",
    "(40*(9/5))+32"
   ]
  },
  {
   "cell_type": "code",
   "execution_count": 5,
   "id": "96a4bb97-cb1f-41b3-8153-fc243585f315",
   "metadata": {},
   "outputs": [
    {
     "data": {
      "text/plain": [
       "128.7472"
      ]
     },
     "execution_count": 5,
     "metadata": {},
     "output_type": "execute_result"
    }
   ],
   "source": [
    "#5b)\n",
    "\n",
    "80*1.60934"
   ]
  },
  {
   "cell_type": "code",
   "execution_count": 6,
   "id": "0f0fe3f4-5278-4176-9213-81efd02492fc",
   "metadata": {},
   "outputs": [
    {
     "data": {
      "text/plain": [
       "0.2"
      ]
     },
     "execution_count": 6,
     "metadata": {},
     "output_type": "execute_result"
    }
   ],
   "source": [
    "#6a)\n",
    "\n",
    "(81*100)/(900*45)"
   ]
  },
  {
   "cell_type": "code",
   "execution_count": 7,
   "id": "95934861-23dd-41ed-b778-32e25ef9b046",
   "metadata": {},
   "outputs": [
    {
     "data": {
      "text/plain": [
       "0.009444444444444445"
      ]
     },
     "execution_count": 7,
     "metadata": {},
     "output_type": "execute_result"
    }
   ],
   "source": [
    "#6b)\n",
    "\n",
    "(750+100)/(45000*2)"
   ]
  },
  {
   "cell_type": "code",
   "execution_count": 10,
   "id": "8f1336fc-106f-461c-8e3b-e5f3d5b6909c",
   "metadata": {},
   "outputs": [
    {
     "data": {
      "text/plain": [
       "4100.0"
      ]
     },
     "execution_count": 10,
     "metadata": {},
     "output_type": "execute_result"
    }
   ],
   "source": [
    "#6c)\n",
    "\n",
    "(1230*100)/(6*5)"
   ]
  },
  {
   "cell_type": "code",
   "execution_count": null,
   "id": "9b883494-38de-4d90-99d6-f3e21afaf15d",
   "metadata": {},
   "outputs": [],
   "source": []
  }
 ],
 "metadata": {
  "kernelspec": {
   "display_name": "exercise_conda_a",
   "language": "python",
   "name": "exercise_conda_a"
  },
  "language_info": {
   "codemirror_mode": {
    "name": "ipython",
    "version": 3
   },
   "file_extension": ".py",
   "mimetype": "text/x-python",
   "name": "python",
   "nbconvert_exporter": "python",
   "pygments_lexer": "ipython3",
   "version": "3.9.12"
  }
 },
 "nbformat": 4,
 "nbformat_minor": 5
}
