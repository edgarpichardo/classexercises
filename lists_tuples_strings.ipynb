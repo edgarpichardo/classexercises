{
 "cells": [
  {
   "cell_type": "code",
   "execution_count": 3,
   "id": "233567fe-c317-4ca4-9131-622d49fef3d1",
   "metadata": {},
   "outputs": [
    {
     "name": "stdout",
     "output_type": "stream",
     "text": [
      "2.23606797749979\n"
     ]
    }
   ],
   "source": [
    "#EXERCISES: LISTS\n",
    "\n",
    "#1a)\n",
    "\n",
    "lis = [2,4,6,7,1,9,3,5,8,4]\n",
    "\n",
    "x = lis[0]\n",
    "y = lis[6]\n",
    "\n",
    "print ((x+y)**0.5) "
   ]
  },
  {
   "cell_type": "code",
   "execution_count": 4,
   "id": "4b1a70cd-11be-4859-babd-857e40c6c65a",
   "metadata": {},
   "outputs": [],
   "source": [
    "#1b)\n",
    "\n",
    "lis2 = []\n",
    "lis2.append((x+y)**0.5)\n"
   ]
  },
  {
   "cell_type": "code",
   "execution_count": 5,
   "id": "c4181d9b-4388-42bc-8de9-49f83368658b",
   "metadata": {},
   "outputs": [],
   "source": [
    "#1c)\n",
    "\n",
    "lis.reverse()"
   ]
  },
  {
   "cell_type": "code",
   "execution_count": 6,
   "id": "26ea9532-ba48-4f2d-a4e7-988c0690a611",
   "metadata": {},
   "outputs": [
    {
     "name": "stdout",
     "output_type": "stream",
     "text": [
      "[4, 8, 5, 3, 9, 1, 7, 6, 4]\n"
     ]
    }
   ],
   "source": [
    "#1d)\n",
    "\n",
    "print(lis[0:-1])"
   ]
  },
  {
   "cell_type": "code",
   "execution_count": 7,
   "id": "db57e0c4-79f4-4674-af30-c64bedcfaf81",
   "metadata": {},
   "outputs": [
    {
     "name": "stdout",
     "output_type": "stream",
     "text": [
      "[5, 1, 4]\n"
     ]
    }
   ],
   "source": [
    "#1e)\n",
    "\n",
    "print ([lis[i] for i in [2 , 5, 8]])"
   ]
  },
  {
   "cell_type": "code",
   "execution_count": 8,
   "id": "e75db2a8-50c9-4d7b-b427-ac2a554f0c3c",
   "metadata": {},
   "outputs": [
    {
     "name": "stdout",
     "output_type": "stream",
     "text": [
      "[1, 2, 3, 4, 4, 5, 6, 7, 8, 9]\n"
     ]
    }
   ],
   "source": [
    "#1f)\n",
    "\n",
    "lis.sort()\n",
    "print (lis)"
   ]
  },
  {
   "cell_type": "code",
   "execution_count": 9,
   "id": "9d93e83d-789b-4917-9466-1cf04d4a8021",
   "metadata": {},
   "outputs": [
    {
     "name": "stdout",
     "output_type": "stream",
     "text": [
      "14\n"
     ]
    }
   ],
   "source": [
    "#1e)\n",
    "\n",
    "lis.extend([5,1,8,3])\n",
    "print(len(lis))"
   ]
  },
  {
   "cell_type": "code",
   "execution_count": 10,
   "id": "c907af18-b8d5-41b7-859b-8b12ad03dba1",
   "metadata": {},
   "outputs": [],
   "source": [
    "#1f)\n",
    "\n",
    "del lis"
   ]
  },
  {
   "cell_type": "code",
   "execution_count": 13,
   "id": "d486695f-e3b1-43e1-a174-31fe017f16d4",
   "metadata": {},
   "outputs": [],
   "source": [
    "#2)\n",
    "\n",
    "lis3 = [3,6,\"fg\"]\n",
    "\n",
    "asci = [ord(x) for x in lis3[-1]]"
   ]
  },
  {
   "cell_type": "code",
   "execution_count": 14,
   "id": "3925ba3b-0ad8-4bca-ad1f-c4c4f10d2315",
   "metadata": {},
   "outputs": [
    {
     "name": "stdout",
     "output_type": "stream",
     "text": [
      "111\n"
     ]
    }
   ],
   "source": [
    "#2a)\n",
    "\n",
    "temp = 0 \n",
    "\n",
    "int_sum = [temp+i for i in asci]\n",
    "\n",
    "print(lis3[0]+lis3[1]+int_sum[0])\n"
   ]
  },
  {
   "cell_type": "code",
   "execution_count": 15,
   "id": "e568edf5-7d02-4961-ba4c-cf2b4b42aa80",
   "metadata": {},
   "outputs": [
    {
     "name": "stdout",
     "output_type": "stream",
     "text": [
      "9\n"
     ]
    }
   ],
   "source": [
    "#2b)\n",
    "\n",
    "del lis3[2]\n",
    "\n",
    "print (lis3[0]+lis3[1])"
   ]
  },
  {
   "cell_type": "code",
   "execution_count": 16,
   "id": "009c57ff-214c-4e23-99c2-5822b7ee8d41",
   "metadata": {},
   "outputs": [],
   "source": [
    "#EXERCISES: TUPLES\n",
    "\n",
    "#1) \n",
    "\n",
    "tup = (6, 4.0, 'ga', 'three')"
   ]
  },
  {
   "cell_type": "code",
   "execution_count": 25,
   "id": "8871cfcd-79fd-4f5a-a1c0-b4ddaa55ae43",
   "metadata": {},
   "outputs": [
    {
     "name": "stdout",
     "output_type": "stream",
     "text": [
      "8\n",
      "4.5\n",
      "six\n",
      "j\n"
     ]
    }
   ],
   "source": [
    "#1a)\n",
    "\n",
    "print(var1)\n",
    "print(var2)\n",
    "print(var3)\n",
    "print(var4)\n"
   ]
  },
  {
   "cell_type": "code",
   "execution_count": 26,
   "id": "e431c880-8ff3-41d7-9fe4-d38f9df6a9c5",
   "metadata": {},
   "outputs": [],
   "source": [
    "#1b)\n",
    "\n",
    "tup = tuple(list(tup)+[5])"
   ]
  },
  {
   "cell_type": "code",
   "execution_count": 27,
   "id": "4282a075-060c-408f-b5de-c91b5fa335e0",
   "metadata": {},
   "outputs": [
    {
     "name": "stdout",
     "output_type": "stream",
     "text": [
      "True\n"
     ]
    }
   ],
   "source": [
    "#1c)\n",
    "\n",
    "print(6 in tup)"
   ]
  },
  {
   "cell_type": "code",
   "execution_count": 29,
   "id": "3ef4c29c-86a8-414b-a3e4-73e9ebb3a014",
   "metadata": {},
   "outputs": [
    {
     "name": "stdout",
     "output_type": "stream",
     "text": [
      "[6, 4.0, 'ga', 'three', 4, 5]\n"
     ]
    }
   ],
   "source": [
    "#1d)\n",
    "\n",
    "lst = list(tup)\n",
    "print(lst)"
   ]
  },
  {
   "cell_type": "code",
   "execution_count": 30,
   "id": "9447dd10-831a-4a9b-bcd2-d62d50160f04",
   "metadata": {},
   "outputs": [],
   "source": [
    "#1e)\n",
    "\n",
    "lengths = (42,31)"
   ]
  },
  {
   "cell_type": "code",
   "execution_count": 32,
   "id": "25cc4560-330d-4d4e-8313-34c31485fdbc",
   "metadata": {},
   "outputs": [
    {
     "name": "stdout",
     "output_type": "stream",
     "text": [
      "(1.6535433070866143, 1.220472440944882)\n"
     ]
    }
   ],
   "source": [
    "#1f)\n",
    "\n",
    "newLengths = (lengths[0]/25.4,lengths[1]/25.4)\n",
    "print(newLengths)"
   ]
  },
  {
   "cell_type": "code",
   "execution_count": 34,
   "id": "2474b60d-df57-48c9-9781-9b36547effc0",
   "metadata": {},
   "outputs": [
    {
     "name": "stdout",
     "output_type": "stream",
     "text": [
      "(6, 4.0, 'ga', 'three', 4, 5)\n"
     ]
    }
   ],
   "source": [
    "tip = tup[1:]\n",
    "print(tup)"
   ]
  },
  {
   "cell_type": "code",
   "execution_count": 37,
   "id": "044aa5e2-12ad-4e4a-b948-7085914a8df1",
   "metadata": {},
   "outputs": [
    {
     "name": "stdout",
     "output_type": "stream",
     "text": [
      "Z\n",
      "P\n",
      "L\n",
      "C\n"
     ]
    }
   ],
   "source": [
    "#EXERCISES: STRINGS\n",
    "\n",
    "#1a)\n",
    "\n",
    "s = [\"Zlatan\",\"Paris\", \"Leclerc\", \"Checo\"]\n",
    "\n",
    "for element in s:\n",
    "    print(element[0])\n"
   ]
  },
  {
   "cell_type": "code",
   "execution_count": 36,
   "id": "2014b2a9-f3c2-4b34-9701-53bed2db7f00",
   "metadata": {},
   "outputs": [
    {
     "name": "stdout",
     "output_type": "stream",
     "text": [
      "Number of characters in  Zlatan : 6\n",
      "Number of characters in  Paris : 5\n",
      "Number of characters in  Leclerc : 7\n",
      "Number of characters in  Checo : 5\n"
     ]
    }
   ],
   "source": [
    "#1b)\n",
    "\n",
    "for element in s:\n",
    "    print(\"Number of characters in \",element,\":\",len(element))"
   ]
  },
  {
   "cell_type": "code",
   "execution_count": 38,
   "id": "40efa355-631f-4c71-b6d2-ea1c88767920",
   "metadata": {},
   "outputs": [
    {
     "name": "stdout",
     "output_type": "stream",
     "text": [
      "The world is round, This is a Quote\n"
     ]
    }
   ],
   "source": [
    "#1c)\n",
    "\n",
    "comment = \"This is a Quote\"\n",
    "print(f\"The world is round, {comment}\")"
   ]
  },
  {
   "cell_type": "code",
   "execution_count": 39,
   "id": "6fca7171-0155-4739-9d1c-03ca90108d45",
   "metadata": {},
   "outputs": [
    {
     "name": "stdout",
     "output_type": "stream",
     "text": [
      "This is a quarter of hundred: 25\n"
     ]
    }
   ],
   "source": [
    "#1d)\n",
    "\n",
    "print(\"This is a quarter of hundred: {}\".format(int(100/4)))"
   ]
  },
  {
   "cell_type": "code",
   "execution_count": 40,
   "id": "16faad2d-369e-42ee-85a3-a1fca003e2ca",
   "metadata": {},
   "outputs": [
    {
     "name": "stdout",
     "output_type": "stream",
     "text": [
      "['The', 'cost', 'of', 'this', 'book', 'is', '100', 'bucks']\n",
      "The cost of this book is 100 bucks\n"
     ]
    }
   ],
   "source": [
    "#1e) \n",
    "\n",
    "x= \"The cost of this book is 100 bucks\"\n",
    "words = x.split(\" \")\n",
    "print(words)\n",
    "sentence = \" \".join(words)\n",
    "print(sentence) "
   ]
  },
  {
   "cell_type": "code",
   "execution_count": null,
   "id": "588bd24d-a427-4a31-992f-f09d92a73b3c",
   "metadata": {},
   "outputs": [],
   "source": []
  }
 ],
 "metadata": {
  "kernelspec": {
   "display_name": "exercise_conda_a",
   "language": "python",
   "name": "exercise_conda_a"
  },
  "language_info": {
   "codemirror_mode": {
    "name": "ipython",
    "version": 3
   },
   "file_extension": ".py",
   "mimetype": "text/x-python",
   "name": "python",
   "nbconvert_exporter": "python",
   "pygments_lexer": "ipython3",
   "version": "3.9.12"
  }
 },
 "nbformat": 4,
 "nbformat_minor": 5
}
